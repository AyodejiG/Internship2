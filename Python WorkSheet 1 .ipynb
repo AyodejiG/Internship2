{
 "cells": [
  {
   "cell_type": "code",
   "execution_count": 5,
   "id": "8528059e",
   "metadata": {},
   "outputs": [],
   "source": [
    "# 1. Write a python program to find the factorial of a number."
   ]
  },
  {
   "cell_type": "code",
   "execution_count": 4,
   "id": "adee6056",
   "metadata": {},
   "outputs": [
    {
     "name": "stdout",
     "output_type": "stream",
     "text": [
      "Enter a number: 1\n",
      "The factorial of 1 is 1\n"
     ]
    }
   ],
   "source": [
    "num = int(input(\"Enter a number: \"))\n",
    "factorial = 1\n",
    "# check if the number is negative, positive or zero\n",
    "if num < 0:\n",
    "    print(\"Sorry, factorial does not exist for negative numbers\")\n",
    "elif num == 0:\n",
    "    print(\"The factorial of 0 is 1\")\n",
    "else:\n",
    "    for i in range(1,num + 1):\n",
    "        factorial=factorial*i\n",
    "    print(\"The factorial of\",num,\"is\",factorial)"
   ]
  },
  {
   "cell_type": "raw",
   "id": "d88e7ce4",
   "metadata": {},
   "source": [
    "# 2. Write a python program to find whether a number is prime or composite"
   ]
  },
  {
   "cell_type": "code",
   "execution_count": 10,
   "id": "efdc2fa8",
   "metadata": {},
   "outputs": [
    {
     "name": "stdout",
     "output_type": "stream",
     "text": [
      "Enter a number: 0\n",
      "0 is a prime number\n",
      "0 is not a prime number\n"
     ]
    }
   ],
   "source": [
    "# Number to be checked for prime or composite \n",
    "\n",
    "num = int(input(\"Enter a number: \"))\n",
    "\n",
    "# Check if the number is greater than 1\n",
    "\n",
    "if num > 1:\n",
    " for i in range (2, int(num/2)+1):\n",
    "  if (num % i) ==0:\n",
    "    print(num, \"is not a prime number\")\n",
    "else:\n",
    "    print(num,\"is a prime number\")\n",
    "\n",
    "if num < 1:\n",
    "\n",
    "    print(num, \"is not a prime number\")"
   ]
  },
  {
   "cell_type": "code",
   "execution_count": 12,
   "id": "b2f5cb56",
   "metadata": {},
   "outputs": [],
   "source": [
    "# 3. Write a python program to check whether a given string is palindrome or not. "
   ]
  },
  {
   "cell_type": "code",
   "execution_count": 23,
   "id": "6533b9d3",
   "metadata": {},
   "outputs": [
    {
     "name": "stdout",
     "output_type": "stream",
     "text": [
      "Enter the string to check if it is a palindrome,HELLO\n",
      "The string is not a palindrome\n"
     ]
    }
   ],
   "source": [
    "str_1 = input (\"Enter the string to check if it is a palindrome,\")\n",
    "\n",
    "str_1 = str_1.casefold ()\n",
    "\n",
    "rev_str = reversed (str_1)\n",
    "\n",
    "if (\"list str_1\") == list (\"rev_str\"):\n",
    "\n",
    "              print (\"The string is a palindrome\")\n",
    "\n",
    "else:\n",
    "\n",
    "              print (\"The string is not a palindrome\")"
   ]
  },
  {
   "cell_type": "code",
   "execution_count": 24,
   "id": "91c60b13",
   "metadata": {},
   "outputs": [],
   "source": [
    "# 4. Write a Python program to get the third side of right-angled triangle from two given sides"
   ]
  },
  {
   "cell_type": "code",
   "execution_count": 27,
   "id": "918375f8",
   "metadata": {},
   "outputs": [
    {
     "name": "stdout",
     "output_type": "stream",
     "text": [
      "Hypotenuse = 5.0\n",
      "Adjacent = 4.0\n",
      "Opposite = 3.0\n"
     ]
    }
   ],
   "source": [
    "\n",
    "def pythagoras(opposite_side,adjacent_side,hypotenuse):\n",
    "        if opposite_side == str(\"x\"):\n",
    "            return (\"Opposite = \" + str(((hypotenuse**2) - (adjacent_side**2))**0.5))\n",
    "        elif adjacent_side == str(\"x\"):\n",
    "            return (\"Adjacent = \" + str(((hypotenuse**2) - (opposite_side**2))**0.5))\n",
    "        elif hypotenuse == str(\"x\"):\n",
    "            return (\"Hypotenuse = \" + str(((opposite_side**2) + (adjacent_side**2))**0.5))\n",
    "        else:\n",
    "            return \"Answer\"\n",
    "    \n",
    "print(pythagoras(3,4,'x'))\n",
    "print(pythagoras(3,'x',5))\n",
    "print(pythagoras('x',4,5))"
   ]
  },
  {
   "cell_type": "code",
   "execution_count": 28,
   "id": "291bd7c2",
   "metadata": {},
   "outputs": [],
   "source": [
    "# 5. Write a python program to print the frequency of each of the characters present in a given string"
   ]
  },
  {
   "cell_type": "code",
   "execution_count": 30,
   "id": "874bfa56",
   "metadata": {},
   "outputs": [
    {
     "name": "stdout",
     "output_type": "stream",
     "text": [
      "l: 1, o: 2, v: 1, e: 2,  : 3, o: 2, f: 2,  : 3, m: 1, y: 1,  : 3, L: 1, i: 1, f: 2, e: 2, "
     ]
    }
   ],
   "source": [
    "string = \"love of my Life\"\n",
    "\n",
    "for i in string:\n",
    "    frequency = string.count(i)\n",
    "    print(str(i) + \": \" + str(frequency), end=\", \")"
   ]
  },
  {
   "cell_type": "code",
   "execution_count": null,
   "id": "0dd491f9",
   "metadata": {},
   "outputs": [],
   "source": []
  }
 ],
 "metadata": {
  "kernelspec": {
   "display_name": "Python 3 (ipykernel)",
   "language": "python",
   "name": "python3"
  },
  "language_info": {
   "codemirror_mode": {
    "name": "ipython",
    "version": 3
   },
   "file_extension": ".py",
   "mimetype": "text/x-python",
   "name": "python",
   "nbconvert_exporter": "python",
   "pygments_lexer": "ipython3",
   "version": "3.9.13"
  }
 },
 "nbformat": 4,
 "nbformat_minor": 5
}
